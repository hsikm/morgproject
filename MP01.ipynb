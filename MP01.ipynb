{
 "cells": [
  {
   "cell_type": "code",
   "execution_count": 1,
   "metadata": {},
   "outputs": [
    {
     "name": "stdout",
     "output_type": "stream",
     "text": [
      "엉덩이 : (-275.44428992271423, -2284.7685012817383)\n",
      "오른쪽손목 좌표: (-275.44428992271423, -2284.7685012817383)\n",
      "오른쪽팔꿈치 좌표: (-631.306036233902, -1748.969295501709)\n",
      "오른쪽어깨 좌표: (-288.70122385025024, -2208.918514251709)\n",
      "a = 0.1775028427774907, b = 0.1607757776757372, 0.3382786204532279\n",
      "엉덩이 : (-437.08580580353737, -122.09448817372322)\n",
      "오른쪽손목 좌표: (-437.08580580353737, -122.09448817372322)\n",
      "오른쪽팔꿈치 좌표: (-440.0236077308655, -786.0144385248423)\n",
      "오른쪽어깨 좌표: (-395.6658142209053, -1808.51189827919)\n",
      "a = 0.19317180773679388, b = 0.2979942415566021, 0.49116604929339597\n"
     ]
    }
   ],
   "source": [
    "import cv2\n",
    "import mediapipe as mp\n",
    "import numpy as np\n",
    "import math\n",
    "mp_drawing = mp.solutions.drawing_utils\n",
    "mp_drawing_styles = mp.solutions.drawing_styles\n",
    "mp_pose = mp.solutions.pose\n",
    "\n",
    "IMAGE_FILES = ['./IMAGE_FILES/MP001.jpg','./IMAGE_FILES/MP003.jpg']\n",
    "with mp_pose.Pose(\n",
    "        static_image_mode=True,\n",
    "        model_complexity=2,\n",
    "        enable_segmentation=False,\n",
    "        min_detection_confidence=0.5) as pose:\n",
    "    for idx, file in enumerate(IMAGE_FILES):\n",
    "        image = cv2.imread(file)\n",
    "        image_height, image_width, _ = image.shape\n",
    "        # 처리 전 BGR 이미지를 RGB로 변환합니다.\n",
    "        results = pose.process(cv2.cvtColor(image, cv2.COLOR_BGR2RGB))\n",
    "\n",
    "        if not results.pose_landmarks:\n",
    "            continue\n",
    "        rwx = results.pose_world_landmarks.landmark[mp_pose.PoseLandmark.RIGHT_WRIST].x\n",
    "        rwy = results.pose_world_landmarks.landmark[mp_pose.PoseLandmark.RIGHT_WRIST].y \n",
    "        rex = results.pose_world_landmarks.landmark[mp_pose.PoseLandmark.RIGHT_ELBOW].x \n",
    "        rey = results.pose_world_landmarks.landmark[mp_pose.PoseLandmark.RIGHT_ELBOW].y \n",
    "        rsx = results.pose_world_landmarks.landmark[mp_pose.PoseLandmark.RIGHT_SHOULDER].x \n",
    "        rsy = results.pose_world_landmarks.landmark[mp_pose.PoseLandmark.RIGHT_SHOULDER].y\n",
    "\n",
    "        print(\n",
    "            f'엉덩이 : ('\n",
    "            f'{results.pose_world_landmarks.landmark[mp_pose.PoseLandmark.RIGHT_WRIST].x * image_width}, '\n",
    "            f'{results.pose_world_landmarks.landmark[mp_pose.PoseLandmark.RIGHT_WRIST].y * image_height})'\n",
    "        )\n",
    "\n",
    "        print(\n",
    "            f'오른쪽손목 좌표: ('\n",
    "            f'{results.pose_world_landmarks.landmark[mp_pose.PoseLandmark.RIGHT_WRIST].x * image_width}, '\n",
    "            f'{results.pose_world_landmarks.landmark[mp_pose.PoseLandmark.RIGHT_WRIST].y * image_height})'\n",
    "        )\n",
    "        print(\n",
    "            f'오른쪽팔꿈치 좌표: ('\n",
    "            f'{results.pose_world_landmarks.landmark[mp_pose.PoseLandmark.RIGHT_ELBOW].x * image_width}, '\n",
    "            f'{results.pose_world_landmarks.landmark[mp_pose.PoseLandmark.RIGHT_ELBOW].y * image_height})'\n",
    "        )\n",
    "        print(\n",
    "            f'오른쪽어깨 좌표: ('\n",
    "            f'{results.pose_world_landmarks.landmark[mp_pose.PoseLandmark.RIGHT_SHOULDER].x * image_width}, '\n",
    "            f'{results.pose_world_landmarks.landmark[mp_pose.PoseLandmark.RIGHT_SHOULDER].y * image_height})'\n",
    "        )\n",
    "        a = math.sqrt(((rwx-rex)*(rwx-rex)+(rwy-rey)*(rwy-rey)))\n",
    "        b = math.sqrt(((rex-rsx)*(rex-rsx)+(rey-rsy)*(rey-rsy)))\n",
    "        print(\n",
    "            \n",
    "            f'a = {a}, b = {b}, {a+b}'\n",
    "        )\n",
    "\n",
    "        annotated_image = image.copy()\n",
    "\n",
    "         # 이미지 위에 포즈 랜드마크를 그립니다.\n",
    "        mp_drawing.draw_landmarks(\n",
    "            annotated_image,\n",
    "            results.pose_landmarks,\n",
    "            mp_pose.POSE_CONNECTIONS,\n",
    "            landmark_drawing_spec=mp_drawing_styles.get_default_pose_landmarks_style())\n",
    "        cv2.imwrite('tmp/annotated_image' +\n",
    "                    str(idx) + '.png', annotated_image)"
   ]
  }
 ],
 "metadata": {
  "kernelspec": {
   "display_name": "Python 3.8.5 ('base')",
   "language": "python",
   "name": "python3"
  },
  "language_info": {
   "codemirror_mode": {
    "name": "ipython",
    "version": 3
   },
   "file_extension": ".py",
   "mimetype": "text/x-python",
   "name": "python",
   "nbconvert_exporter": "python",
   "pygments_lexer": "ipython3",
   "version": "3.8.5"
  },
  "orig_nbformat": 4,
  "vscode": {
   "interpreter": {
    "hash": "54aac26565e105791bcd34cb4ce4c8bed708769fe573a7080c2c35d7de7ac431"
   }
  }
 },
 "nbformat": 4,
 "nbformat_minor": 2
}
