{
 "cells": [
  {
   "cell_type": "code",
   "execution_count": 8,
   "metadata": {},
   "outputs": [
    {
     "name": "stdout",
     "output_type": "stream",
     "text": [
      "Requirement already satisfied: mediapipe in c:\\users\\gws05\\anaconda3\\lib\\site-packages (0.9.0)\n",
      "Collecting opencv-python\n",
      "  Downloading opencv_python-4.6.0.66-cp36-abi3-win_amd64.whl (35.6 MB)\n",
      "Requirement already satisfied: matplotlib in c:\\users\\gws05\\anaconda3\\lib\\site-packages (from mediapipe) (3.3.2)\n",
      "Requirement already satisfied: protobuf<4,>=3.11 in c:\\users\\gws05\\anaconda3\\lib\\site-packages (from mediapipe) (3.20.3)\n",
      "Requirement already satisfied: absl-py in c:\\users\\gws05\\anaconda3\\lib\\site-packages (from mediapipe) (1.3.0)\n",
      "Requirement already satisfied: opencv-contrib-python in c:\\users\\gws05\\anaconda3\\lib\\site-packages (from mediapipe) (4.6.0.66)\n",
      "Requirement already satisfied: flatbuffers>=2.0 in c:\\users\\gws05\\anaconda3\\lib\\site-packages (from mediapipe) (22.11.23)\n",
      "Requirement already satisfied: attrs>=19.1.0 in c:\\users\\gws05\\anaconda3\\lib\\site-packages (from mediapipe) (20.3.0)\n",
      "Requirement already satisfied: numpy in c:\\users\\gws05\\anaconda3\\lib\\site-packages (from mediapipe) (1.19.2)\n",
      "Requirement already satisfied: python-dateutil>=2.1 in c:\\users\\gws05\\anaconda3\\lib\\site-packages (from matplotlib->mediapipe) (2.8.1)\n",
      "Requirement already satisfied: cycler>=0.10 in c:\\users\\gws05\\anaconda3\\lib\\site-packages (from matplotlib->mediapipe) (0.10.0)\n",
      "Requirement already satisfied: certifi>=2020.06.20 in c:\\users\\gws05\\anaconda3\\lib\\site-packages (from matplotlib->mediapipe) (2020.6.20)\n",
      "Requirement already satisfied: pyparsing!=2.0.4,!=2.1.2,!=2.1.6,>=2.0.3 in c:\\users\\gws05\\anaconda3\\lib\\site-packages (from matplotlib->mediapipe) (2.4.7)\n",
      "Requirement already satisfied: kiwisolver>=1.0.1 in c:\\users\\gws05\\anaconda3\\lib\\site-packages (from matplotlib->mediapipe) (1.3.0)\n",
      "Requirement already satisfied: pillow>=6.2.0 in c:\\users\\gws05\\anaconda3\\lib\\site-packages (from matplotlib->mediapipe) (8.0.1)\n",
      "Requirement already satisfied: six>=1.5 in c:\\users\\gws05\\anaconda3\\lib\\site-packages (from python-dateutil>=2.1->matplotlib->mediapipe) (1.15.0)\n",
      "Installing collected packages: opencv-python\n",
      "Note: you may need to restart the kernel to use updated packages.\n"
     ]
    },
    {
     "name": "stderr",
     "output_type": "stream",
     "text": [
      "ERROR: Could not install packages due to an EnvironmentError: [WinError 5] 액세스가 거부되었습니다: 'c:\\\\Users\\\\gws05\\\\anaconda3\\\\Lib\\\\site-packages\\\\cv2\\\\cv2.pyd'\n",
      "Consider using the `--user` option or check the permissions.\n",
      "\n"
     ]
    }
   ],
   "source": [
    "%pip install mediapipe opencv-python"
   ]
  },
  {
   "cell_type": "code",
   "execution_count": 7,
   "metadata": {},
   "outputs": [
    {
     "name": "stdout",
     "output_type": "stream",
     "text": [
      "엉덩이 : (-746.3182597160339, -161.89529085159302)\n",
      "오른쪽손목 좌표: (-746.3182597160339, -161.89529085159302)\n",
      "오른쪽팔꿈치 좌표: (-604.1494617462158, -954.4255228042603)\n",
      "오른쪽어깨 좌표: (-439.2306604385376, -2134.8327598571777)\n",
      "팔의 길이 : 49.990034159549424cm \n",
      "엉덩이 : (-437.08580580353737, -122.09448817372322)\n",
      "오른쪽손목 좌표: (-437.08580580353737, -122.09448817372322)\n",
      "오른쪽팔꿈치 좌표: (-440.0236077308655, -786.0144385248423)\n",
      "오른쪽어깨 좌표: (-395.6658142209053, -1808.51189827919)\n",
      "팔의 길이 : 49.116604929339594cm \n"
     ]
    }
   ],
   "source": [
    "import cv2\n",
    "import mediapipe as mp\n",
    "import numpy as np\n",
    "import math\n",
    "mp_drawing = mp.solutions.drawing_utils\n",
    "mp_drawing_styles = mp.solutions.drawing_styles\n",
    "mp_pose = mp.solutions.pose\n",
    "\n",
    "IMAGE_FILES = ['./IMAGE_FILES/MP004.jpg','./IMAGE_FILES/MP003.jpg']\n",
    "with mp_pose.Pose(\n",
    "        static_image_mode=True,\n",
    "        model_complexity=2,\n",
    "        enable_segmentation=False,\n",
    "        min_detection_confidence=0.5) as pose:\n",
    "    for idx, file in enumerate(IMAGE_FILES):\n",
    "        image = cv2.imread(file)\n",
    "        image_height, image_width, _ = image.shape\n",
    "        # 처리 전 BGR 이미지를 RGB로 변환합니다.\n",
    "        results = pose.process(cv2.cvtColor(image, cv2.COLOR_BGR2RGB))\n",
    "\n",
    "        if not results.pose_landmarks:\n",
    "            continue\n",
    "\n",
    "        rwx = results.pose_world_landmarks.landmark[mp_pose.PoseLandmark.RIGHT_WRIST].x\n",
    "        rwy = results.pose_world_landmarks.landmark[mp_pose.PoseLandmark.RIGHT_WRIST].y \n",
    "        rex = results.pose_world_landmarks.landmark[mp_pose.PoseLandmark.RIGHT_ELBOW].x \n",
    "        rey = results.pose_world_landmarks.landmark[mp_pose.PoseLandmark.RIGHT_ELBOW].y \n",
    "        rsx = results.pose_world_landmarks.landmark[mp_pose.PoseLandmark.RIGHT_SHOULDER].x \n",
    "        rsy = results.pose_world_landmarks.landmark[mp_pose.PoseLandmark.RIGHT_SHOULDER].y\n",
    "\n",
    "        print(\n",
    "            f'엉덩이 : ('\n",
    "            f'{results.pose_world_landmarks.landmark[mp_pose.PoseLandmark.RIGHT_WRIST].x * image_width}, '\n",
    "            f'{results.pose_world_landmarks.landmark[mp_pose.PoseLandmark.RIGHT_WRIST].y * image_height})'\n",
    "        )\n",
    "        print(\n",
    "            f'오른쪽손목 좌표: ('\n",
    "            f'{results.pose_world_landmarks.landmark[mp_pose.PoseLandmark.RIGHT_WRIST].x * image_width}, '\n",
    "            f'{results.pose_world_landmarks.landmark[mp_pose.PoseLandmark.RIGHT_WRIST].y * image_height})'\n",
    "        )\n",
    "        print(\n",
    "            f'오른쪽팔꿈치 좌표: ('\n",
    "            f'{results.pose_world_landmarks.landmark[mp_pose.PoseLandmark.RIGHT_ELBOW].x * image_width}, '\n",
    "            f'{results.pose_world_landmarks.landmark[mp_pose.PoseLandmark.RIGHT_ELBOW].y * image_height})'\n",
    "        )\n",
    "        print(\n",
    "            f'오른쪽어깨 좌표: ('\n",
    "            f'{results.pose_world_landmarks.landmark[mp_pose.PoseLandmark.RIGHT_SHOULDER].x * image_width}, '\n",
    "            f'{results.pose_world_landmarks.landmark[mp_pose.PoseLandmark.RIGHT_SHOULDER].y * image_height})'\n",
    "        )\n",
    "        a = math.sqrt(((rwx-rex)*(rwx-rex)+(rwy-rey)*(rwy-rey)))\n",
    "        b = math.sqrt(((rex-rsx)*(rex-rsx)+(rey-rsy)*(rey-rsy)))\n",
    "        print(\n",
    "            f'팔의 길이 : {(a+b)*100}cm '\n",
    "        )\n",
    "\n",
    "        annotated_image = image.copy()\n",
    "\n",
    "        # 이미지 위에 포즈 랜드마크를 그립니다.\n",
    "        mp_drawing.draw_landmarks(\n",
    "            annotated_image,\n",
    "            results.pose_landmarks,\n",
    "            mp_pose.POSE_CONNECTIONS,\n",
    "            landmark_drawing_spec=mp_drawing_styles.get_default_pose_landmarks_style())\n",
    "        # 처리된 이미지를 저장합니다.\n",
    "        cv2.imwrite('tmp/annotated_image' +\n",
    "                    str(idx) + '.png', annotated_image)"
   ]
  }
 ],
 "metadata": {
  "kernelspec": {
   "display_name": "Python 3.8.5 ('base')",
   "language": "python",
   "name": "python3"
  },
  "language_info": {
   "codemirror_mode": {
    "name": "ipython",
    "version": 3
   },
   "file_extension": ".py",
   "mimetype": "text/x-python",
   "name": "python",
   "nbconvert_exporter": "python",
   "pygments_lexer": "ipython3",
   "version": "3.8.5"
  },
  "orig_nbformat": 4,
  "vscode": {
   "interpreter": {
    "hash": "54aac26565e105791bcd34cb4ce4c8bed708769fe573a7080c2c35d7de7ac431"
   }
  }
 },
 "nbformat": 4,
 "nbformat_minor": 2
}
